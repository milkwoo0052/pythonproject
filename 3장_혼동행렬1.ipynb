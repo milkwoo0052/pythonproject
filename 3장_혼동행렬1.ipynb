{
 "cells": [
  {
   "cell_type": "code",
   "execution_count": 1,
   "id": "6488496b-4f09-4501-8f0a-739e42a2cb9c",
   "metadata": {},
   "outputs": [],
   "source": [
    "import pandas as pd\n",
    "from sklearn.model_selection import train_test_split\n",
    "from sklearn.metrics import accuracy_score\n",
    "import numpy as np\n",
    "from sklearn.datasets import load_digits\n",
    "from sklearn.base import BaseEstimator"
   ]
  },
  {
   "cell_type": "code",
   "execution_count": 2,
   "id": "c16a9079-778d-41d1-a253-dfd8542926db",
   "metadata": {},
   "outputs": [],
   "source": [
    "digits = load_digits()"
   ]
  },
  {
   "cell_type": "code",
   "execution_count": 3,
   "id": "64261e60-1e58-4975-9a91-1b55c58f5328",
   "metadata": {},
   "outputs": [
    {
     "data": {
      "text/plain": [
       "array([[ 0.,  0.,  5., 13.,  9.,  1.,  0.,  0.],\n",
       "       [ 0.,  0., 13., 15., 10., 15.,  5.,  0.],\n",
       "       [ 0.,  3., 15.,  2.,  0., 11.,  8.,  0.],\n",
       "       [ 0.,  4., 12.,  0.,  0.,  8.,  8.,  0.],\n",
       "       [ 0.,  5.,  8.,  0.,  0.,  9.,  8.,  0.],\n",
       "       [ 0.,  4., 11.,  0.,  1., 12.,  7.,  0.],\n",
       "       [ 0.,  2., 14.,  5., 10., 12.,  0.,  0.],\n",
       "       [ 0.,  0.,  6., 13., 10.,  0.,  0.,  0.]])"
      ]
     },
     "execution_count": 3,
     "metadata": {},
     "output_type": "execute_result"
    }
   ],
   "source": [
    "digits.data[0].reshape(8,8)"
   ]
  },
  {
   "cell_type": "code",
   "execution_count": 4,
   "id": "8241bfb6-952f-40a2-9ce7-8ad69068c1df",
   "metadata": {},
   "outputs": [],
   "source": [
    "class MyFakeClassifier(BaseEstimator):\n",
    "    def fit(self, X, y):\n",
    "        pass\n",
    "    def predict(self, X):\n",
    "        return np.zeros((len(X),1), dtype=bool)"
   ]
  },
  {
   "cell_type": "code",
   "execution_count": 5,
   "id": "3af16c96-8df5-44ec-90f1-e50b0b3a3f1d",
   "metadata": {},
   "outputs": [],
   "source": [
    "digits = load_digits()"
   ]
  },
  {
   "cell_type": "code",
   "execution_count": 6,
   "id": "1a2c73f3-60d5-4e50-bde4-6db56b463631",
   "metadata": {},
   "outputs": [],
   "source": [
    "y = (digits.target ==7).astype(int)\n",
    "X_train,X_test,y_train,y_test = train_test_split(digits.data,\n",
    "                                                 y,\n",
    "                                                 random_state = 11)"
   ]
  },
  {
   "cell_type": "code",
   "execution_count": 7,
   "id": "fa5c70d9-c4a3-425b-9645-ca298e9cc50a",
   "metadata": {},
   "outputs": [
    {
     "name": "stdout",
     "output_type": "stream",
     "text": [
      "레이블 테스트 세트 크기 : (450,)\n",
      "테스트 세트 레이블 0과 1의 분포도\n",
      "0    405\n",
      "1     45\n",
      "dtype: int64\n",
      "모든 예측을 0으로 하여도 정확도는:0.900\n"
     ]
    }
   ],
   "source": [
    "# 불균형한 레이블 데이터 분포도 확인\n",
    "print('레이블 테스트 세트 크기 :', y_test.shape)\n",
    "print('테스트 세트 레이블 0과 1의 분포도')\n",
    "print(pd.Series(y_test).value_counts())\n",
    "\n",
    "# Dummy Classifier로 학습/예측/정확도 평가\n",
    "fakeclf = MyFakeClassifier()\n",
    "fakeclf.fit(X_train, y_train)\n",
    "fakepred = fakeclf.predict(X_test)\n",
    "print('모든 예측을 0으로 하여도 정확도는:{:.3f}'.format(accuracy_score(y_test, fakepred)))"
   ]
  },
  {
   "cell_type": "code",
   "execution_count": 8,
   "id": "2741b6ce-9583-498f-b25a-7c760a629d46",
   "metadata": {},
   "outputs": [
    {
     "data": {
      "text/plain": [
       "array([[405,   0],\n",
       "       [ 45,   0]], dtype=int64)"
      ]
     },
     "execution_count": 8,
     "metadata": {},
     "output_type": "execute_result"
    }
   ],
   "source": [
    "from sklearn.metrics import confusion_matrix\n",
    "\n",
    "confusion_matrix(y_test, fakepred)"
   ]
  },
  {
   "cell_type": "code",
   "execution_count": 9,
   "id": "c3193036-2d8f-4504-9a22-90b9ec0833ee",
   "metadata": {},
   "outputs": [],
   "source": [
    "def get_clf_eval(y_test,pred):\n",
    "    from sklearn.metrics import accuracy_score,\\\n",
    "                                confusion_matrix,\\\n",
    "                                precision_score,\\\n",
    "                                recall_score\n",
    "    confusion = confusion_matrix(y_test, pred)\n",
    "    accuracy = accuracy_score(y_test, pred)\n",
    "    precision = precision_score(y_test, pred)\n",
    "    recall = recall_score(y_test, pred)\n",
    "    print('오차행렬')\n",
    "    print(confusion)\n",
    "    print(f'정확도:{accuracy:.4f}, 정밀도:{precision:.4f}, 재현율:{recall:.4f}')\n",
    "    \n",
    "def fillna(df):\n",
    "    df['Age'].fillna(df['Age'].mean(),inplace = True)\n",
    "    df['Cabin'].fillna('N', inplace=True)\n",
    "    df['Embarked'].fillna('N', inplace=True)\n",
    "    df['Fare'].fillna(0, inplace = True)\n",
    "    return df\n",
    "\n",
    "def drop_features(df):\n",
    "    df.drop(columns = ['PassengerId', 'Name', 'Ticket'], inplace=True)\n",
    "    return df\n",
    "\n",
    "def format_features(df):\n",
    "    from sklearn.preprocessing import LabelEncoder     # 필요한 import를 함수에 넣어주는 것도 좋다.\n",
    "    df['Cabin'] = df['Cabin'].str[0]\n",
    "    features = ['Cabin', 'Sex', 'Embarked']\n",
    "    for feature in features:\n",
    "        le = LabelEncoder()\n",
    "        df[feature] = le.fit_transform(df[feature])\n",
    "    return df\n",
    "\n",
    "def transform_features(df):         # 만들어진 함수를 차례대로 실행하는 함수.\n",
    "    df = fillna(df)\n",
    "    df = drop_features(df)\n",
    "    df = format_features(df)\n",
    "    return df"
   ]
  },
  {
   "cell_type": "code",
   "execution_count": 10,
   "id": "ffe8ab10-8278-4ad8-803e-c9ca8292ec8b",
   "metadata": {},
   "outputs": [],
   "source": [
    "import pandas as pd\n",
    "from sklearn.model_selection import train_test_split\n",
    "titanic_df = pd.read_csv('./titanic_train.csv')\n",
    "y_titanic_df = titanic_df['Survived']\n",
    "X_titanic_df = titanic_df.drop(columns=['Survived'])\n",
    "X_titanic_df = transform_features(X_titanic_df)\n",
    "X_train,X_test,y_train,y_test = train_test_split(X_titanic_df,\n",
    "                                                 y_titanic_df,\n",
    "                                                 test_size = 0.2,\n",
    "                                                 random_state = 11)"
   ]
  },
  {
   "cell_type": "code",
   "execution_count": 11,
   "id": "deeceeaa-f84c-4afa-87aa-bb10bedbca37",
   "metadata": {},
   "outputs": [],
   "source": [
    "from sklearn.linear_model import LogisticRegression"
   ]
  },
  {
   "cell_type": "code",
   "execution_count": 12,
   "id": "78bddbbc-2f5e-4940-a457-93a7d809df04",
   "metadata": {},
   "outputs": [
    {
     "name": "stdout",
     "output_type": "stream",
     "text": [
      "오차행렬\n",
      "[[108  10]\n",
      " [ 14  47]]\n",
      "정확도:0.8659, 정밀도:0.8246, 재현율:0.7705\n"
     ]
    }
   ],
   "source": [
    "lr_clf = LogisticRegression(solver='liblinear')\n",
    "lr_clf.fit(X_train,y_train)\n",
    "pred = lr_clf.predict(X_test)\n",
    "get_clf_eval(y_test, pred)"
   ]
  },
  {
   "cell_type": "code",
   "execution_count": 13,
   "id": "9a8755b4-997d-4e9a-9b98-546de86ca54a",
   "metadata": {},
   "outputs": [
    {
     "data": {
      "text/plain": [
       "array([1, 0, 0, 0, 0, 0, 0, 1, 0, 1, 0, 0, 0, 0, 0, 0, 0, 0, 0, 1, 0, 0,\n",
       "       0, 0, 0, 0, 0, 0, 0, 0, 1, 1, 0, 1, 0, 0, 0, 1, 0, 0, 0, 0, 1, 1,\n",
       "       1, 1, 1, 0, 1, 0, 0, 0, 0, 1, 0, 0, 0, 0, 0, 0, 0, 0, 0, 0, 0, 0,\n",
       "       1, 1, 1, 0, 0, 0, 0, 1, 0, 0, 0, 0, 1, 0, 1, 1, 1, 0, 1, 1, 0, 0,\n",
       "       1, 0, 0, 0, 0, 0, 1, 0, 1, 0, 0, 1, 1, 0, 1, 0, 1, 0, 0, 0, 0, 0,\n",
       "       0, 0, 0, 1, 0, 0, 0, 0, 1, 0, 0, 0, 0, 0, 0, 0, 0, 0, 1, 0, 1, 0,\n",
       "       1, 1, 1, 0, 1, 0, 0, 1, 1, 0, 0, 0, 0, 1, 0, 0, 1, 0, 0, 1, 1, 0,\n",
       "       1, 1, 0, 0, 1, 1, 0, 1, 0, 1, 0, 1, 1, 0, 0, 1, 0, 1, 0, 0, 0, 0,\n",
       "       0, 0, 1], dtype=int64)"
      ]
     },
     "execution_count": 13,
     "metadata": {},
     "output_type": "execute_result"
    }
   ],
   "source": [
    "pred"
   ]
  },
  {
   "cell_type": "code",
   "execution_count": 14,
   "id": "3b0f8be8-45c5-4edc-a603-f1c52a16d7cd",
   "metadata": {},
   "outputs": [
    {
     "data": {
      "text/plain": [
       "array([[0.44935228, 0.55064772],\n",
       "       [0.86335513, 0.13664487],\n",
       "       [0.86429645, 0.13570355],\n",
       "       [0.84968519, 0.15031481],\n",
       "       [0.82343411, 0.17656589],\n",
       "       [0.84231224, 0.15768776],\n",
       "       [0.87095491, 0.12904509],\n",
       "       [0.27228604, 0.72771396],\n",
       "       [0.78185129, 0.21814871],\n",
       "       [0.33185992, 0.66814008],\n",
       "       [0.86178764, 0.13821236],\n",
       "       [0.870581  , 0.129419  ],\n",
       "       [0.86425952, 0.13574048],\n",
       "       [0.87065946, 0.12934054],\n",
       "       [0.56033547, 0.43966453],\n",
       "       [0.85003024, 0.14996976],\n",
       "       [0.88954174, 0.11045826],\n",
       "       [0.74250732, 0.25749268],\n",
       "       [0.71120225, 0.28879775],\n",
       "       [0.23776272, 0.76223728],\n",
       "       [0.75684106, 0.24315894],\n",
       "       [0.62428169, 0.37571831],\n",
       "       [0.84655248, 0.15344752],\n",
       "       [0.82711259, 0.17288741],\n",
       "       [0.8682563 , 0.1317437 ],\n",
       "       [0.77003828, 0.22996172],\n",
       "       [0.82946349, 0.17053651],\n",
       "       [0.9033613 , 0.0966387 ],\n",
       "       [0.73372048, 0.26627952],\n",
       "       [0.68847388, 0.31152612],\n",
       "       [0.07646869, 0.92353131],\n",
       "       [0.2253212 , 0.7746788 ],\n",
       "       [0.87161942, 0.12838058],\n",
       "       [0.24075415, 0.75924585],\n",
       "       [0.62711735, 0.37288265],\n",
       "       [0.77003828, 0.22996172],\n",
       "       [0.90554276, 0.09445724],\n",
       "       [0.40602576, 0.59397424],\n",
       "       [0.93043587, 0.06956413],\n",
       "       [0.87650522, 0.12349478],\n",
       "       [0.69797423, 0.30202577],\n",
       "       [0.89664594, 0.10335406],\n",
       "       [0.21993378, 0.78006622],\n",
       "       [0.31565709, 0.68434291],\n",
       "       [0.37942229, 0.62057771],\n",
       "       [0.37932892, 0.62067108],\n",
       "       [0.07161279, 0.92838721],\n",
       "       [0.55777566, 0.44222434],\n",
       "       [0.07914487, 0.92085513],\n",
       "       [0.86803084, 0.13196916],\n",
       "       [0.50790061, 0.49209939],\n",
       "       [0.87065946, 0.12934054],\n",
       "       [0.85576407, 0.14423593],\n",
       "       [0.3487013 , 0.6512987 ],\n",
       "       [0.71558417, 0.28441583],\n",
       "       [0.78853201, 0.21146799],\n",
       "       [0.7461921 , 0.2538079 ],\n",
       "       [0.86429002, 0.13570998],\n",
       "       [0.84079005, 0.15920995],\n",
       "       [0.59838062, 0.40161938],\n",
       "       [0.73532081, 0.26467919],\n",
       "       [0.88705598, 0.11294402],\n",
       "       [0.54552802, 0.45447198],\n",
       "       [0.5532634 , 0.4467366 ],\n",
       "       [0.62583528, 0.37416472],\n",
       "       [0.88363279, 0.11636721],\n",
       "       [0.35181256, 0.64818744],\n",
       "       [0.39903352, 0.60096648],\n",
       "       [0.08300812, 0.91699188],\n",
       "       [0.85072525, 0.14927475],\n",
       "       [0.86778821, 0.13221179],\n",
       "       [0.83070926, 0.16929074],\n",
       "       [0.87649044, 0.12350956],\n",
       "       [0.05959914, 0.94040086],\n",
       "       [0.78735759, 0.21264241],\n",
       "       [0.87065946, 0.12934054],\n",
       "       [0.716541  , 0.283459  ],\n",
       "       [0.79159804, 0.20840196],\n",
       "       [0.20303096, 0.79696904],\n",
       "       [0.86429002, 0.13570998],\n",
       "       [0.2400505 , 0.7599495 ],\n",
       "       [0.3712358 , 0.6287642 ],\n",
       "       [0.08369624, 0.91630376],\n",
       "       [0.84018613, 0.15981387],\n",
       "       [0.07766718, 0.92233282],\n",
       "       [0.08973248, 0.91026752],\n",
       "       [0.84723079, 0.15276921],\n",
       "       [0.86241532, 0.13758468],\n",
       "       [0.16539726, 0.83460274],\n",
       "       [0.87065946, 0.12934054],\n",
       "       [0.87065946, 0.12934054],\n",
       "       [0.77003828, 0.22996172],\n",
       "       [0.75416741, 0.24583259],\n",
       "       [0.87065946, 0.12934054],\n",
       "       [0.37932892, 0.62067108],\n",
       "       [0.89883891, 0.10116109],\n",
       "       [0.07361401, 0.92638599],\n",
       "       [0.87897227, 0.12102773],\n",
       "       [0.60197829, 0.39802171],\n",
       "       [0.06738996, 0.93261004],\n",
       "       [0.47948277, 0.52051723],\n",
       "       [0.90469272, 0.09530728],\n",
       "       [0.05673721, 0.94326279],\n",
       "       [0.88180789, 0.11819211],\n",
       "       [0.45587967, 0.54412033],\n",
       "       [0.86133439, 0.13866561],\n",
       "       [0.84974931, 0.15025069],\n",
       "       [0.850727  , 0.149273  ],\n",
       "       [0.5550275 , 0.4449725 ],\n",
       "       [0.88426899, 0.11573101],\n",
       "       [0.84747419, 0.15252581],\n",
       "       [0.87269564, 0.12730436],\n",
       "       [0.67538691, 0.32461309],\n",
       "       [0.4827525 , 0.5172475 ],\n",
       "       [0.8682563 , 0.1317437 ],\n",
       "       [0.91597192, 0.08402808],\n",
       "       [0.84194204, 0.15805796],\n",
       "       [0.78872838, 0.21127162],\n",
       "       [0.11141752, 0.88858248],\n",
       "       [0.90534856, 0.09465144],\n",
       "       [0.87071645, 0.12928355],\n",
       "       [0.86905441, 0.13094559],\n",
       "       [0.91525793, 0.08474207],\n",
       "       [0.58196816, 0.41803184],\n",
       "       [0.98025013, 0.01974987],\n",
       "       [0.87071645, 0.12928355],\n",
       "       [0.8721902 , 0.1278098 ],\n",
       "       [0.71194639, 0.28805361],\n",
       "       [0.34348895, 0.65651105],\n",
       "       [0.70226698, 0.29773302],\n",
       "       [0.06738996, 0.93261004],\n",
       "       [0.59805546, 0.40194454],\n",
       "       [0.32885343, 0.67114657],\n",
       "       [0.48644743, 0.51355257],\n",
       "       [0.42864816, 0.57135184],\n",
       "       [0.56346552, 0.43653448],\n",
       "       [0.25853142, 0.74146858],\n",
       "       [0.77643225, 0.22356775],\n",
       "       [0.87632449, 0.12367551],\n",
       "       [0.15009272, 0.84990728],\n",
       "       [0.13434695, 0.86565305],\n",
       "       [0.850727  , 0.149273  ],\n",
       "       [0.86772104, 0.13227896],\n",
       "       [0.89628756, 0.10371244],\n",
       "       [0.88613341, 0.11386659],\n",
       "       [0.34797626, 0.65202374],\n",
       "       [0.89917049, 0.10082951],\n",
       "       [0.72997339, 0.27002661],\n",
       "       [0.12221446, 0.87778554],\n",
       "       [0.81719691, 0.18280309],\n",
       "       [0.61865109, 0.38134891],\n",
       "       [0.37370298, 0.62629702],\n",
       "       [0.38348343, 0.61651657],\n",
       "       [0.864633  , 0.135367  ],\n",
       "       [0.25161297, 0.74838703],\n",
       "       [0.10388329, 0.89611671],\n",
       "       [0.5764806 , 0.4235194 ],\n",
       "       [0.8547685 , 0.1452315 ],\n",
       "       [0.31415124, 0.68584876],\n",
       "       [0.33907973, 0.66092027],\n",
       "       [0.84347721, 0.15652279],\n",
       "       [0.23261125, 0.76738875],\n",
       "       [0.88859275, 0.11140725],\n",
       "       [0.35220568, 0.64779432],\n",
       "       [0.5855486 , 0.4144514 ],\n",
       "       [0.36143288, 0.63856712],\n",
       "       [0.13634058, 0.86365942],\n",
       "       [0.67797002, 0.32202998],\n",
       "       [0.88600085, 0.11399915],\n",
       "       [0.13946114, 0.86053886],\n",
       "       [0.87095491, 0.12904509],\n",
       "       [0.2061602 , 0.7938398 ],\n",
       "       [0.76719904, 0.23280096],\n",
       "       [0.77437245, 0.22562755],\n",
       "       [0.50324026, 0.49675974],\n",
       "       [0.9107984 , 0.0892016 ],\n",
       "       [0.8497074 , 0.1502926 ],\n",
       "       [0.54874088, 0.45125912],\n",
       "       [0.48192068, 0.51807932]])"
      ]
     },
     "execution_count": 14,
     "metadata": {},
     "output_type": "execute_result"
    }
   ],
   "source": [
    "lr_clf.predict_proba(X_test)"
   ]
  },
  {
   "cell_type": "code",
   "execution_count": 15,
   "id": "9c98fa69-eca5-422d-a0e1-b1d0ab85c206",
   "metadata": {},
   "outputs": [],
   "source": [
    "from sklearn.preprocessing import Binarizer"
   ]
  },
  {
   "cell_type": "code",
   "execution_count": 16,
   "id": "259ee0f9-15cf-4960-ba44-da19501bac7d",
   "metadata": {},
   "outputs": [],
   "source": [
    "X = [[1,-1,2],\n",
    "     [2,0,0],\n",
    "    [0,1.1,1.2]]"
   ]
  },
  {
   "cell_type": "code",
   "execution_count": 17,
   "id": "3dcb6396-21e5-4ec7-bbb7-ee5883e5910f",
   "metadata": {},
   "outputs": [
    {
     "data": {
      "text/plain": [
       "array([[0., 0., 1.],\n",
       "       [1., 0., 0.],\n",
       "       [0., 0., 1.]])"
      ]
     },
     "execution_count": 17,
     "metadata": {},
     "output_type": "execute_result"
    }
   ],
   "source": [
    "binarizer = Binarizer(threshold=1.1)\n",
    "binarizer.fit_transform(X)\n",
    "# array([[1., 0., 1.],\n",
    "#        [1., 0., 0.],\n",
    "#        [0., 1., 1.]])"
   ]
  },
  {
   "cell_type": "code",
   "execution_count": 18,
   "id": "9b225d00-63a6-4cce-be2b-1b58e7169977",
   "metadata": {
    "collapsed": true,
    "jupyter": {
     "outputs_hidden": true
    },
    "tags": []
   },
   "outputs": [
    {
     "data": {
      "text/plain": [
       "array([[0.55064772],\n",
       "       [0.13664487],\n",
       "       [0.13570355],\n",
       "       [0.15031481],\n",
       "       [0.17656589],\n",
       "       [0.15768776],\n",
       "       [0.12904509],\n",
       "       [0.72771396],\n",
       "       [0.21814871],\n",
       "       [0.66814008],\n",
       "       [0.13821236],\n",
       "       [0.129419  ],\n",
       "       [0.13574048],\n",
       "       [0.12934054],\n",
       "       [0.43966453],\n",
       "       [0.14996976],\n",
       "       [0.11045826],\n",
       "       [0.25749268],\n",
       "       [0.28879775],\n",
       "       [0.76223728],\n",
       "       [0.24315894],\n",
       "       [0.37571831],\n",
       "       [0.15344752],\n",
       "       [0.17288741],\n",
       "       [0.1317437 ],\n",
       "       [0.22996172],\n",
       "       [0.17053651],\n",
       "       [0.0966387 ],\n",
       "       [0.26627952],\n",
       "       [0.31152612],\n",
       "       [0.92353131],\n",
       "       [0.7746788 ],\n",
       "       [0.12838058],\n",
       "       [0.75924585],\n",
       "       [0.37288265],\n",
       "       [0.22996172],\n",
       "       [0.09445724],\n",
       "       [0.59397424],\n",
       "       [0.06956413],\n",
       "       [0.12349478],\n",
       "       [0.30202577],\n",
       "       [0.10335406],\n",
       "       [0.78006622],\n",
       "       [0.68434291],\n",
       "       [0.62057771],\n",
       "       [0.62067108],\n",
       "       [0.92838721],\n",
       "       [0.44222434],\n",
       "       [0.92085513],\n",
       "       [0.13196916],\n",
       "       [0.49209939],\n",
       "       [0.12934054],\n",
       "       [0.14423593],\n",
       "       [0.6512987 ],\n",
       "       [0.28441583],\n",
       "       [0.21146799],\n",
       "       [0.2538079 ],\n",
       "       [0.13570998],\n",
       "       [0.15920995],\n",
       "       [0.40161938],\n",
       "       [0.26467919],\n",
       "       [0.11294402],\n",
       "       [0.45447198],\n",
       "       [0.4467366 ],\n",
       "       [0.37416472],\n",
       "       [0.11636721],\n",
       "       [0.64818744],\n",
       "       [0.60096648],\n",
       "       [0.91699188],\n",
       "       [0.14927475],\n",
       "       [0.13221179],\n",
       "       [0.16929074],\n",
       "       [0.12350956],\n",
       "       [0.94040086],\n",
       "       [0.21264241],\n",
       "       [0.12934054],\n",
       "       [0.283459  ],\n",
       "       [0.20840196],\n",
       "       [0.79696904],\n",
       "       [0.13570998],\n",
       "       [0.7599495 ],\n",
       "       [0.6287642 ],\n",
       "       [0.91630376],\n",
       "       [0.15981387],\n",
       "       [0.92233282],\n",
       "       [0.91026752],\n",
       "       [0.15276921],\n",
       "       [0.13758468],\n",
       "       [0.83460274],\n",
       "       [0.12934054],\n",
       "       [0.12934054],\n",
       "       [0.22996172],\n",
       "       [0.24583259],\n",
       "       [0.12934054],\n",
       "       [0.62067108],\n",
       "       [0.10116109],\n",
       "       [0.92638599],\n",
       "       [0.12102773],\n",
       "       [0.39802171],\n",
       "       [0.93261004],\n",
       "       [0.52051723],\n",
       "       [0.09530728],\n",
       "       [0.94326279],\n",
       "       [0.11819211],\n",
       "       [0.54412033],\n",
       "       [0.13866561],\n",
       "       [0.15025069],\n",
       "       [0.149273  ],\n",
       "       [0.4449725 ],\n",
       "       [0.11573101],\n",
       "       [0.15252581],\n",
       "       [0.12730436],\n",
       "       [0.32461309],\n",
       "       [0.5172475 ],\n",
       "       [0.1317437 ],\n",
       "       [0.08402808],\n",
       "       [0.15805796],\n",
       "       [0.21127162],\n",
       "       [0.88858248],\n",
       "       [0.09465144],\n",
       "       [0.12928355],\n",
       "       [0.13094559],\n",
       "       [0.08474207],\n",
       "       [0.41803184],\n",
       "       [0.01974987],\n",
       "       [0.12928355],\n",
       "       [0.1278098 ],\n",
       "       [0.28805361],\n",
       "       [0.65651105],\n",
       "       [0.29773302],\n",
       "       [0.93261004],\n",
       "       [0.40194454],\n",
       "       [0.67114657],\n",
       "       [0.51355257],\n",
       "       [0.57135184],\n",
       "       [0.43653448],\n",
       "       [0.74146858],\n",
       "       [0.22356775],\n",
       "       [0.12367551],\n",
       "       [0.84990728],\n",
       "       [0.86565305],\n",
       "       [0.149273  ],\n",
       "       [0.13227896],\n",
       "       [0.10371244],\n",
       "       [0.11386659],\n",
       "       [0.65202374],\n",
       "       [0.10082951],\n",
       "       [0.27002661],\n",
       "       [0.87778554],\n",
       "       [0.18280309],\n",
       "       [0.38134891],\n",
       "       [0.62629702],\n",
       "       [0.61651657],\n",
       "       [0.135367  ],\n",
       "       [0.74838703],\n",
       "       [0.89611671],\n",
       "       [0.4235194 ],\n",
       "       [0.1452315 ],\n",
       "       [0.68584876],\n",
       "       [0.66092027],\n",
       "       [0.15652279],\n",
       "       [0.76738875],\n",
       "       [0.11140725],\n",
       "       [0.64779432],\n",
       "       [0.4144514 ],\n",
       "       [0.63856712],\n",
       "       [0.86365942],\n",
       "       [0.32202998],\n",
       "       [0.11399915],\n",
       "       [0.86053886],\n",
       "       [0.12904509],\n",
       "       [0.7938398 ],\n",
       "       [0.23280096],\n",
       "       [0.22562755],\n",
       "       [0.49675974],\n",
       "       [0.0892016 ],\n",
       "       [0.1502926 ],\n",
       "       [0.45125912],\n",
       "       [0.51807932]])"
      ]
     },
     "execution_count": 22,
     "metadata": {},
     "output_type": "execute_result"
    }
   ],
   "source": [
    "custom_threshold = 0.5\n",
    "pred_proba_1 = lr_clf.predict_proba(X_test)[:,1].reshape(-1,1)\n",
    "pred_proba_1"
   ]
  },
  {
   "cell_type": "code",
   "execution_count": 24,
   "id": "0110a0b5-51b2-4318-ba90-b28393bbc1e6",
   "metadata": {},
   "outputs": [
    {
     "name": "stdout",
     "output_type": "stream",
     "text": [
      "오차행렬\n",
      "[[97 21]\n",
      " [11 50]]\n",
      "정확도:0.8212, 정밀도:0.7042, 재현율:0.8197\n"
     ]
    }
   ],
   "source": [
    "custom_threshold = 0.4\n",
    "pred_proba_1 = lr_clf.predict_proba(X_test)[:,1].reshape(-1,1)\n",
    "#pred_proba_1\n",
    "\n",
    "\n",
    "binarizer = Binarizer(threshold=custom_threshold)\n",
    "custom_predict = binarizer.fit_transform(pred_proba_1)\n",
    "get_clf_eval(y_test,custom_predict)\n",
    "\n",
    "# 오차행렬\n",
    "# [[108  10]\n",
    "#  [ 14  47]]\n",
    "# 정확도:0.8659, 정밀도:0.8246, 재현율:0.7705"
   ]
  },
  {
   "cell_type": "code",
   "execution_count": 30,
   "id": "d769e30e-d9b4-48c8-adab-255df6760839",
   "metadata": {},
   "outputs": [],
   "source": [
    "thresholds=[0.4,0.45,0.50,0.55,0,60]\n",
    "def get_eval_threshold(y_test, pred_proba_1, thresholds):\n",
    "    for custom_threshold in thresholds:\n",
    "        binarizer = Binarizer(threshold=custom_threshold)\n",
    "        custom_predict = binarizer.fit_transform(pred_proba_1)\n",
    "        print('임계값',custom_threshold)\n",
    "        get_clf_eval(y_test,custom_predict)"
   ]
  },
  {
   "cell_type": "code",
   "execution_count": 31,
   "id": "e2d0b3cd-3328-4c1a-8468-b83d187f0984",
   "metadata": {},
   "outputs": [
    {
     "name": "stdout",
     "output_type": "stream",
     "text": [
      "임계값 0.4\n",
      "오차행렬\n",
      "[[97 21]\n",
      " [11 50]]\n",
      "정확도:0.8212, 정밀도:0.7042, 재현율:0.8197\n",
      "임계값 0.45\n",
      "오차행렬\n",
      "[[105  13]\n",
      " [ 13  48]]\n",
      "정확도:0.8547, 정밀도:0.7869, 재현율:0.7869\n",
      "임계값 0.5\n",
      "오차행렬\n",
      "[[108  10]\n",
      " [ 14  47]]\n",
      "정확도:0.8659, 정밀도:0.8246, 재현율:0.7705\n",
      "임계값 0.55\n",
      "오차행렬\n",
      "[[111   7]\n",
      " [ 16  45]]\n",
      "정확도:0.8715, 정밀도:0.8654, 재현율:0.7377\n",
      "임계값 0\n",
      "오차행렬\n",
      "[[  0 118]\n",
      " [  0  61]]\n",
      "정확도:0.3408, 정밀도:0.3408, 재현율:1.0000\n",
      "임계값 60\n",
      "오차행렬\n",
      "[[118   0]\n",
      " [ 61   0]]\n",
      "정확도:0.6592, 정밀도:0.0000, 재현율:0.0000\n"
     ]
    },
    {
     "name": "stderr",
     "output_type": "stream",
     "text": [
      "C:\\Users\\milkw\\anaconda3\\lib\\site-packages\\sklearn\\metrics\\_classification.py:1248: UndefinedMetricWarning: Precision is ill-defined and being set to 0.0 due to no predicted samples. Use `zero_division` parameter to control this behavior.\n",
      "  _warn_prf(average, modifier, msg_start, len(result))\n"
     ]
    }
   ],
   "source": [
    "get_eval_threshold(y_test, pred_proba_1, thresholds)"
   ]
  },
  {
   "cell_type": "code",
   "execution_count": 33,
   "id": "967a92f8-9671-455e-9cc7-e2d0c11d25cd",
   "metadata": {},
   "outputs": [
    {
     "name": "stdout",
     "output_type": "stream",
     "text": [
      "반환된 분류 결정 임곗값 배열의 Shape: (147,)\n",
      "반환된 precisions 배열의 Shape: (148,)\n",
      "반환된 recalls 배열의 Shape: (148,)\n",
      "thresholds 5 sample: [0.11573101 0.11636721 0.11819211 0.12102773 0.12349478]\n",
      "precisions 5 sample: [0.37888199 0.375      0.37735849 0.37974684 0.38216561]\n",
      "recalls 5 sample: [1.         0.98360656 0.98360656 0.98360656 0.98360656]\n",
      "샘플 추출을 위한 임계값 배열의 index 10개: [  0  15  30  45  60  75  90 105 120 135]\n",
      "샘플용 10개의 임곗값:  [0.12 0.13 0.15 0.17 0.26 0.38 0.49 0.63 0.76 0.9 ]\n",
      "샘플 임계값별 정밀도:  [0.379 0.424 0.455 0.519 0.618 0.676 0.797 0.93  0.964 1.   ]\n",
      "샘플 임계값별 재현율:  [1.    0.967 0.902 0.902 0.902 0.82  0.77  0.656 0.443 0.213]\n"
     ]
    },
    {
     "data": {
      "image/png": "[encoded data removed]",
      "text/plain": [
       "<Figure size 576x432 with 1 Axes>"
      ]
     },
     "metadata": {
      "needs_background": "light"
     },
     "output_type": "display_data"
    }
   ],
   "source": [
    "\n",
    "from sklearn.metrics import precision_recall_curve\n",
    "\n",
    "# 레이블 값이 1일때의 예측 확률을 추출 \n",
    "pred_proba_class1 = lr_clf.predict_proba(X_test)[:, 1] \n",
    "\n",
    "# 실제값 데이터 셋과 레이블 값이 1일 때의 예측 확률을 precision_recall_curve 인자로 입력 \n",
    "precisions, recalls, thresholds = precision_recall_curve(y_test, pred_proba_class1 )\n",
    "print('반환된 분류 결정 임곗값 배열의 Shape:', thresholds.shape)\n",
    "print('반환된 precisions 배열의 Shape:', precisions.shape)\n",
    "print('반환된 recalls 배열의 Shape:', recalls.shape)\n",
    "\n",
    "print(\"thresholds 5 sample:\", thresholds[:5])\n",
    "print(\"precisions 5 sample:\", precisions[:5])\n",
    "print(\"recalls 5 sample:\", recalls[:5])\n",
    "\n",
    "#반환된 임계값 배열 로우가 147건이므로 샘플로 10건만 추출하되, 임곗값을 15 Step으로 추출. \n",
    "thr_index = np.arange(0, thresholds.shape[0], 15)\n",
    "print('샘플 추출을 위한 임계값 배열의 index 10개:', thr_index)\n",
    "print('샘플용 10개의 임곗값: ', np.round(thresholds[thr_index], 2))\n",
    "\n",
    "# 15 step 단위로 추출된 임계값에 따른 정밀도와 재현율 값 \n",
    "print('샘플 임계값별 정밀도: ', np.round(precisions[thr_index], 3))\n",
    "print('샘플 임계값별 재현율: ', np.round(recalls[thr_index], 3))\n",
    "\n",
    "import matplotlib.pyplot as plt\n",
    "import matplotlib.ticker as ticker\n",
    "%matplotlib inline\n",
    "\n",
    "def precision_recall_curve_plot(y_test , pred_proba_c1):\n",
    "    # threshold ndarray와 이 threshold에 따른 정밀도, 재현율 ndarray 추출. \n",
    "    precisions, recalls, thresholds = precision_recall_curve( y_test, pred_proba_c1)\n",
    "    \n",
    "    # X축을 threshold값으로, Y축은 정밀도, 재현율 값으로 각각 Plot 수행. 정밀도는 점선으로 표시\n",
    "    plt.figure(figsize=(8,6))\n",
    "    threshold_boundary = thresholds.shape[0]\n",
    "    plt.plot(thresholds, precisions[0:threshold_boundary], linestyle='--', label='precision')\n",
    "    plt.plot(thresholds, recalls[0:threshold_boundary],label='recall')\n",
    "    \n",
    "    # threshold 값 X 축의 Scale을 0.1 단위로 변경\n",
    "    start, end = plt.xlim()\n",
    "    plt.xticks(np.round(np.arange(start, end, 0.1),2))\n",
    "    \n",
    "    # x축, y축 label과 legend, 그리고 grid 설정\n",
    "    plt.xlabel('Threshold value'); plt.ylabel('Precision and Recall value')\n",
    "    plt.legend(); plt.grid()\n",
    "    plt.show()\n",
    "    \n",
    "precision_recall_curve_plot( y_test, lr_clf.predict_proba(X_test)[:, 1] )\n"
   ]
  },
  {
   "cell_type": "code",
   "execution_count": null,
   "id": "d0df7338-bfb5-4d08-8dd1-c3587c46f16d",
   "metadata": {},
   "outputs": [],
   "source": []
  }
 ],
 "metadata": {
  "kernelspec": {
   "display_name": "Python 3 (ipykernel)",
   "language": "python",
   "name": "python3"
  },
  "language_info": {
   "codemirror_mode": {
    "name": "ipython",
    "version": 3
   },
   "file_extension": ".py",
   "mimetype": "text/x-python",
   "name": "python",
   "nbconvert_exporter": "python",
   "pygments_lexer": "ipython3",
   "version": "3.9.7"
  }
 },
 "nbformat": 4,
 "nbformat_minor": 5
}
