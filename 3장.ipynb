{
 "cells": [
  {
   "cell_type": "code",
   "execution_count": 1,
   "id": "ae3d241b-081e-4f9f-ae49-3c61ecd9c936",
   "metadata": {},
   "outputs": [],
   "source": [
    "from sklearn.base import BaseEstimator"
   ]
  },
  {
   "cell_type": "code",
   "execution_count": 47,
   "id": "cbac14b1-e9c9-42db-872b-1672cd1b430d",
   "metadata": {},
   "outputs": [],
   "source": [
    "class MyDummyClassfier(BaseEstimator):\n",
    "    def fit(self, X, y=None):\n",
    "        pass\n",
    "    \n",
    "    def predict(self,X):\n",
    "        import numpy as np\n",
    "        pred = np.zeros((X.shape[0],1))\n",
    "        for i in range(X.shape[0]):\n",
    "            if X['Sex'].iloc[i]==1:\n",
    "                pred[i]=0\n",
    "            else:\n",
    "                pred[i] = 1\n",
    "            \n",
    "        return pred"
   ]
  },
  {
   "cell_type": "code",
   "execution_count": 48,
   "id": "0a20bea2-b392-4330-bf79-910b0bd2dee5",
   "metadata": {},
   "outputs": [],
   "source": [
    "dummy = MyDummyClassfier()"
   ]
  },
  {
   "cell_type": "code",
   "execution_count": 49,
   "id": "a21c2860-9be0-4fde-a3b8-fedd739fff9d",
   "metadata": {},
   "outputs": [],
   "source": [
    "dummy.fit(1)"
   ]
  },
  {
   "cell_type": "code",
   "execution_count": 50,
   "id": "8b15f4ff-3267-4077-8e8d-23962a1d1aea",
   "metadata": {},
   "outputs": [],
   "source": [
    "# loc -> 원래 부여된 값  iloc -> "
   ]
  },
  {
   "cell_type": "code",
   "execution_count": 55,
   "id": "349fbd1a-af4d-45b7-8dd3-628198472abf",
   "metadata": {},
   "outputs": [],
   "source": [
    "import pandas as pd\n",
    "from sklearn.model_selection import train_test_split\n",
    "from sklearn.metrics import accuracy_score"
   ]
  },
  {
   "cell_type": "code",
   "execution_count": 56,
   "id": "b70744d1-8988-46c7-b90c-30a2ee3d22a7",
   "metadata": {},
   "outputs": [],
   "source": [
    "def fillna(df):\n",
    "    df['Age'].fillna(df['Age'].mean(),inplace = True)\n",
    "    df['Cabin'].fillna('N', inplace=True)\n",
    "    df['Embarked'].fillna('N', inplace=True)\n",
    "    df['Fare'].fillna(0, inplace = True)\n",
    "    return df\n",
    "\n",
    "def drop_features(df):\n",
    "    df.drop(columns = ['PassengerId', 'Name', 'Ticket'], inplace=True) \n",
    "    return df\n",
    "\n",
    "def format_features(df):\n",
    "    from sklearn.preprocessing import LabelEncoder     # 필요한 import를 함수에 넣어주는 것도 좋다.\n",
    "    df['Cabin'] = df['Cabin'].str[0]\n",
    "    features = ['Cabin', 'Sex', 'Embarked']\n",
    "    for feature in features:\n",
    "        le = LabelEncoder()\n",
    "        df[feature] = le.fit_transform(df[feature])\n",
    "    return df\n",
    "\n",
    "def transform_features(df):         # 만들어진 함수를 차례대로 실행하는 함수.\n",
    "    df = fillna(df)\n",
    "    df = drop_features(df)\n",
    "    df = format_features(df)\n",
    "    return df"
   ]
  },
  {
   "cell_type": "code",
   "execution_count": 57,
   "id": "121e2ea8-99c8-460c-a444-0237388d2f7b",
   "metadata": {},
   "outputs": [],
   "source": [
    "titanic_df = pd.read_csv('./titanic_train.csv')\n",
    "y_titanic_df = titanic_df['Survived']\n",
    "X_titanic_df = titanic_df.drop(columns=['Survived'])\n",
    "X_titanic_df = transform_features(X_titanic_df)\n",
    "X_train,X_test,y_train,y_test = train_test_split(X_titanic_df,\n",
    "                                                 y_titanic_df,\n",
    "                                                 test_size = 0.2,\n",
    "                                                 random_state = 11)"
   ]
  },
  {
   "cell_type": "code",
   "execution_count": 58,
   "id": "e20b8d39-da78-450a-be3d-0a180b9ea47b",
   "metadata": {},
   "outputs": [
    {
     "data": {
      "text/plain": [
       "0.8324022346368715"
      ]
     },
     "execution_count": 58,
     "metadata": {},
     "output_type": "execute_result"
    }
   ],
   "source": [
    "myclf = MyDummyClassfier()\n",
    "myclf.fit(X_train, y_train)\n",
    "pred = myclf.predict(X_test)\n",
    "accuracy_score(y_test,pred)"
   ]
  },
  {
   "cell_type": "code",
   "execution_count": 59,
   "id": "b311af8c-344e-4a20-9517-b0a302ab630f",
   "metadata": {},
   "outputs": [],
   "source": [
    "from sklearn.datasets import load_digits"
   ]
  },
  {
   "cell_type": "code",
   "execution_count": 66,
   "id": "7e21a3a2-7b4f-474c-8212-150619057f1f",
   "metadata": {},
   "outputs": [],
   "source": [
    "digits = load_digits()"
   ]
  },
  {
   "cell_type": "code",
   "execution_count": 67,
   "id": "491764c1-0028-4b30-b7ee-55fde14cc69d",
   "metadata": {},
   "outputs": [
    {
     "data": {
      "text/plain": [
       "array([[ 0.,  0.,  0.,  4., 15., 12.,  0.,  0.],\n",
       "       [ 0.,  0.,  3., 16., 15., 14.,  0.,  0.],\n",
       "       [ 0.,  0.,  8., 13.,  8., 16.,  0.,  0.],\n",
       "       [ 0.,  0.,  1.,  6., 15., 11.,  0.,  0.],\n",
       "       [ 0.,  1.,  8., 13., 15.,  1.,  0.,  0.],\n",
       "       [ 0.,  9., 16., 16.,  5.,  0.,  0.,  0.],\n",
       "       [ 0.,  3., 13., 16., 16., 11.,  5.,  0.],\n",
       "       [ 0.,  0.,  0.,  3., 11., 16.,  9.,  0.]])"
      ]
     },
     "execution_count": 67,
     "metadata": {},
     "output_type": "execute_result"
    }
   ],
   "source": [
    "digits.data[2].reshape(8,8)"
   ]
  },
  {
   "cell_type": "code",
   "execution_count": 68,
   "id": "c17304cf-65c0-477c-9a36-9dd6d99f7e6c",
   "metadata": {},
   "outputs": [
    {
     "data": {
      "text/plain": [
       "array([0, 1, 2, ..., 8, 9, 8])"
      ]
     },
     "execution_count": 68,
     "metadata": {},
     "output_type": "execute_result"
    }
   ],
   "source": [
    "digits.target"
   ]
  },
  {
   "cell_type": "code",
   "execution_count": 69,
   "id": "e38f8e57-a6c0-4847-b738-14e0377524b0",
   "metadata": {},
   "outputs": [
    {
     "data": {
      "text/plain": [
       "2"
      ]
     },
     "execution_count": 69,
     "metadata": {},
     "output_type": "execute_result"
    }
   ],
   "source": [
    "digits.target[2]"
   ]
  },
  {
   "cell_type": "code",
   "execution_count": 71,
   "id": "98c2aba5-7329-460c-a10f-73d902215b78",
   "metadata": {},
   "outputs": [
    {
     "data": {
      "text/plain": [
       "0.0"
      ]
     },
     "execution_count": 71,
     "metadata": {},
     "output_type": "execute_result"
    }
   ],
   "source": [
    "digits.data.min()"
   ]
  },
  {
   "cell_type": "code",
   "execution_count": 83,
   "id": "4285774b-cdc4-4c95-9c90-9eba34fe9e63",
   "metadata": {},
   "outputs": [],
   "source": [
    "from sklearn.datasets import load_digits\n",
    "from sklearn.model_selection import train_test_split\n",
    "from sklearn.base import BaseEstimator\n",
    "from sklearn.metrics import accuracy_score\n",
    "import numpy as np\n",
    "import pandas as pl\n",
    "\n",
    "class MyFakeClassifier(BaseEstimator):\n",
    "    def fit (self,X,y):\n",
    "        pass\n",
    "        "
   ]
  },
  {
   "cell_type": "code",
   "execution_count": 89,
   "id": "cd58506a-2981-40d3-a10f-17d1d0c9b986",
   "metadata": {},
   "outputs": [
    {
     "ename": "IndentationError",
     "evalue": "expected an indented block (Temp/ipykernel_13404/2204521500.py, line 3)",
     "output_type": "error",
     "traceback": [
      "\u001b[1;36m  File \u001b[1;32m\"C:\\Users\\milkw\\AppData\\Local\\Temp/ipykernel_13404/2204521500.py\"\u001b[1;36m, line \u001b[1;32m3\u001b[0m\n\u001b[1;33m    return np.zeros((len(X),1),(dtype=bool)\u001b[0m\n\u001b[1;37m    ^\u001b[0m\n\u001b[1;31mIndentationError\u001b[0m\u001b[1;31m:\u001b[0m expected an indented block\n"
     ]
    }
   ],
   "source": [
    "    #입력값으로 들어오는 x 데이터 세트의 크기만큼 모두 0 값으로 만들어서 반환\n",
    "def predict(self, X,):\n",
    "    return np.zeros((len(X),1),(dtype=bool)"
   ]
  },
  {
   "cell_type": "code",
   "execution_count": 87,
   "id": "bb716413-bc8b-404d-97eb-997e59e221a5",
   "metadata": {},
   "outputs": [],
   "source": [
    "# 사이킷런의 내장 데이터 세트인 load_digits(를) 이용해 minist 데이토 로딩\n",
    "digits = load_digits()"
   ]
  },
  {
   "cell_type": "code",
   "execution_count": null,
   "id": "babd0b74-593a-4500-bd64-21d6d61a34a0",
   "metadata": {},
   "outputs": [],
   "source": [
    "digits 번호가 7이면 true이고 이름 astype(int)"
   ]
  },
  {
   "cell_type": "code",
   "execution_count": null,
   "id": "27c16c92-0c18-495b-ac01-99fa36f4265e",
   "metadata": {},
   "outputs": [],
   "source": []
  },
  {
   "cell_type": "code",
   "execution_count": null,
   "id": "835357d8-71e8-498d-887d-c318ed472cb9",
   "metadata": {},
   "outputs": [],
   "source": [
    "array([[405,]])"
   ]
  },
  {
   "cell_type": "code",
   "execution_count": null,
   "id": "f175480b-18eb-4f8f-83c3-fad681b47e93",
   "metadata": {},
   "outputs": [],
   "source": []
  },
  {
   "cell_type": "code",
   "execution_count": null,
   "id": "93b42076-a1d0-4446-b853-97567511c209",
   "metadata": {},
   "outputs": [],
   "source": []
  },
  {
   "cell_type": "code",
   "execution_count": null,
   "id": "c0925b17-9a46-4236-bf60-8f0781b55e14",
   "metadata": {},
   "outputs": [],
   "source": []
  },
  {
   "cell_type": "code",
   "execution_count": null,
   "id": "2b8ef180-ee2e-47cf-aacf-50f844330e10",
   "metadata": {},
   "outputs": [],
   "source": []
  },
  {
   "cell_type": "code",
   "execution_count": null,
   "id": "8ddb8f54-5f5d-43c4-8bfb-c39ea20579ee",
   "metadata": {},
   "outputs": [],
   "source": []
  }
 ],
 "metadata": {
  "kernelspec": {
   "display_name": "Python 3 (ipykernel)",
   "language": "python",
   "name": "python3"
  },
  "language_info": {
   "codemirror_mode": {
    "name": "ipython",
    "version": 3
   },
   "file_extension": ".py",
   "mimetype": "text/x-python",
   "name": "python",
   "nbconvert_exporter": "python",
   "pygments_lexer": "ipython3",
   "version": "3.9.7"
  }
 },
 "nbformat": 4,
 "nbformat_minor": 5
}
